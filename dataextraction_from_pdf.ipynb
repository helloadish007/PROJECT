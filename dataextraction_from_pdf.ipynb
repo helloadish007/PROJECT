{
 "cells": [
  {
   "cell_type": "code",
   "execution_count": null,
   "metadata": {},
   "outputs": [],
   "source": [
    "import tabula\n",
    "file = \"/home/adish/Desktop/python.pdf\" \n",
    "tables = tabula.read_pdf(file, pages = \"all\", multiple_tables = True)\n",
    "tabula.convert_into(file, \"pp22.csv\",pages=\"all\")\n",
    "import pandas as pd\n",
    "df=pd.read_csv('/home/adish/pp22.csv')\n",
    "del df['Status']\n",
    "del df['In-']\n",
    "del df['Availed']\n",
    "del df['Eligible']\n",
    "del df['Disc. Action']\n",
    "df.replace(to_replace=[r\"\\\\t|\\\\n|\\\\r\", \"\\t|\\n|\\r\"], value=[\"\",\"\"], regex=True, inplace=True)\n",
    "df.replace(to_replace=[r\":\"], value=[\" \"], regex=True, inplace=True)\n",
    "df['registerno'] = df['Student'].str.extract('(...16IT...)', expand=True) \n",
    "df['internal'] = df['Internal'].str.extract('(...0)', expand=True) \n",
    "del df['Internal']\n",
    "del df['Student']\n",
    "df.dropna(axis=0, how=\"all\", thresh=None, subset=None, inplace=True)\n",
    "df.to_csv (r'C:\\Users\\Ron\\Desktop\\pp11.csv', index = False, header=True)"
   ]
  },
  {
   "cell_type": "code",
   "execution_count": null,
   "metadata": {},
   "outputs": [],
   "source": []
  }
 ],
 "metadata": {
  "kernelspec": {
   "display_name": "Python 3",
   "language": "python",
   "name": "python3"
  },
  "language_info": {
   "codemirror_mode": {
    "name": "ipython",
    "version": 3
   },
   "file_extension": ".py",
   "mimetype": "text/x-python",
   "name": "python",
   "nbconvert_exporter": "python",
   "pygments_lexer": "ipython3",
   "version": "3.7.4"
  }
 },
 "nbformat": 4,
 "nbformat_minor": 2
}

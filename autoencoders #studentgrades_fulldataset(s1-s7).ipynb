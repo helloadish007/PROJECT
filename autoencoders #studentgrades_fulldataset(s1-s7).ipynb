{
 "cells": [
  {
   "cell_type": "code",
   "execution_count": 1,
   "metadata": {},
   "outputs": [],
   "source": [
    "# AutoEncoders\n",
    "\n",
    "# Importing the libraries\n",
    "import numpy as np\n",
    "import pandas as pd\n",
    "import torch\n",
    "import torch.nn as nn\n",
    "import torch.nn.parallel\n",
    "import torch.optim as optim\n",
    "import torch.utils.data\n",
    "from torch.autograd import Variable"
   ]
  },
  {
   "cell_type": "code",
   "execution_count": 87,
   "metadata": {},
   "outputs": [],
   "source": [
    "# # Importing the dataset\n",
    "movies = pd.read_csv('all_sem_grades.csv')\n",
    "movies= movies.drop('NO.',axis=1)\n",
    "\n",
    "# users = pd.read_csv('ml-1m/users.dat', sep = '::', header = None, engine = 'python', encoding = 'latin-1')\n",
    "# ratings = pd.read_csv('ml-1m/ratings.dat', sep = '::', header = None, engine = 'python', encoding = 'latin-1')\n"
   ]
  },
  {
   "cell_type": "code",
   "execution_count": null,
   "metadata": {},
   "outputs": [],
   "source": []
  },
  {
   "cell_type": "code",
   "execution_count": 54,
   "metadata": {},
   "outputs": [
    {
     "data": {
      "text/plain": [
       "(11, 9)"
      ]
     },
     "execution_count": 54,
     "metadata": {},
     "output_type": "execute_result"
    }
   ],
   "source": [
    "# Preparing the training set and the test set\n",
    "training_set = pd.read_csv('s1_train.csv')\n",
    "training_set= training_set.drop('NO.',axis=1)\n",
    "training_set = np.array(training_set, dtype = 'int')#user_id,movie_id,ratings\n",
    "test_set = pd.read_csv('s1_test.csv')\n",
    "test_set= test_set.drop('NO.',axis=1)\n",
    "test_set = np.array(test_set, dtype = 'int')\n",
    "test_set.shape\n",
    "#training_set.shape"
   ]
  },
  {
   "cell_type": "code",
   "execution_count": 55,
   "metadata": {},
   "outputs": [
    {
     "data": {
      "text/plain": [
       "(11, 9)"
      ]
     },
     "execution_count": 55,
     "metadata": {},
     "output_type": "execute_result"
    }
   ],
   "source": [
    "test_set.shape\n",
    "#training_set.shape"
   ]
  },
  {
   "cell_type": "code",
   "execution_count": 56,
   "metadata": {},
   "outputs": [
    {
     "data": {
      "text/plain": [
       "42"
      ]
     },
     "execution_count": 56,
     "metadata": {},
     "output_type": "execute_result"
    }
   ],
   "source": [
    "#nb_students = int(max(max(training_set[:,0]), max(test_set[:,0])))\n",
    "#nb_courses = int(max(max(training_set[:,1]), max(test_set[:,1])))\n",
    "nb_students = max(training_set.shape[0], test_set.shape[0])-1\n",
    "nb_courses = max(training_set.shape[1], test_set.shape[1])\n",
    "nb_students\n",
    "#nb_courses"
   ]
  },
  {
   "cell_type": "code",
   "execution_count": 57,
   "metadata": {},
   "outputs": [],
   "source": [
    "# # Converting the data into an array with users in lines and movies in columns\n",
    "# def convert(data):\n",
    "#     new_data = []\n",
    "#     for id_users in range(1, nb_users + 1):\n",
    "#         id_movies = data[:,1][data[:,0] == id_users]\n",
    "#         id_ratings = data[:,2][data[:,0] == id_users]\n",
    "#         ratings = np.zeros(nb_movies)\n",
    "#         ratings[id_movies - 1] = id_ratings\n",
    "#         new_data.append(list(ratings))\n",
    "#     return new_data\n",
    "# training_set = convert(training_set)\n",
    "# test_set = convert(test_set)\n",
    "# training_set= training_set.drop('NO',axis=1)\n",
    "# test_set= training_set.drop('NO',axis=1)\n",
    "\n",
    "# Converting the data into Torch tensors\n",
    "training_set = torch.FloatTensor(training_set)\n",
    "test_set = torch.FloatTensor(test_set)\n"
   ]
  },
  {
   "cell_type": "code",
   "execution_count": 58,
   "metadata": {},
   "outputs": [],
   "source": [
    "# Creating the architecture of the Neural Network\n",
    "class SAE(nn.Module):\n",
    "    def __init__(self, ):\n",
    "        super(SAE, self).__init__()\n",
    "        self.fc1 = nn.Linear(nb_courses, 20)\n",
    "        self.fc2 = nn.Linear(20, 10)\n",
    "        self.fc3 = nn.Linear(10, 20)\n",
    "        self.fc4 = nn.Linear(20, nb_courses)\n",
    "        self.activation = nn.Sigmoid()\n",
    "    def forward(self, x):\n",
    "        x.view(x.size(0), -1) \n",
    "        x = self.activation(self.fc1(x))\n",
    "        x = self.activation(self.fc2(x))\n",
    "        x = self.activation(self.fc3(x))\n",
    "        x = self.fc4(x)\n",
    "        return x\n",
    "sae = SAE()\n",
    "criterion = nn.MSELoss()\n",
    "optimizer = optim.RMSprop(sae.parameters(), lr = 0.01, weight_decay = 0.5)\n"
   ]
  },
  {
   "cell_type": "code",
   "execution_count": 59,
   "metadata": {},
   "outputs": [],
   "source": [
    "# # Training the SAE\n",
    "# nb_epoch = 200\n",
    "# for epoch in range(1, nb_epoch + 1):\n",
    "#     train_loss = 0\n",
    "#     s = 0.\n",
    "#     for id_user in range(nb_users):\n",
    "#         input = Variable(training_set[id_user]).unsqueeze(0)\n",
    "#         target = input.clone()\n",
    "#         if torch.sum(target.data > 0) > 0:\n",
    "#             output = sae(input)\n",
    "#             target = Variable(test_set[id_user]).unsqueeze(0)\n",
    "#             output[target == 0] = 0\n",
    "#             loss = criterion(output, target)\n",
    "#             mean_corrector = nb_movies/float(torch.sum(target.data > 0) + 1e-10)\n",
    "#             loss.backward()\n",
    "#             train_loss += np.sqrt(loss.data*mean_corrector)\n",
    "#             s += 1.\n",
    "#             optimizer.step()\n",
    "#     print('epoch: '+str(epoch)+' loss: '+str(train_loss/s))\n"
   ]
  },
  {
   "cell_type": "code",
   "execution_count": 60,
   "metadata": {},
   "outputs": [],
   "source": [
    "# # Testing the SAE\n",
    "# test_loss = 0\n",
    "# s = 0.\n",
    "# for id_user in range(nb_users):\n",
    "#     input = Variable(training_set[id_user]).unsqueeze(0)\n",
    "#     #target = Variable(test_set[id_user])\n",
    "#     target = Variable(test_set[id_user]).unsqueeze(0)\n",
    "#     if torch.sum(target.data > 0) > 0:\n",
    "#         output = sae(input)\n",
    "#         target.require_grad = False\n",
    "#         output[(target == 0).unsqueeze(0)] = 0\n",
    "#         loss = criterion(output, target)\n",
    "#         mean_corrector = nb_movies/float(torch.sum(target.data > 0) + 1e-10)\n",
    "#         test_loss += np.sqrt(loss.data*mean_corrector)\n",
    "#         s += 1.\n",
    "# print('test loss: '+str(test_loss/s))"
   ]
  },
  {
   "cell_type": "code",
   "execution_count": 61,
   "metadata": {},
   "outputs": [],
   "source": [
    "# # Training the SAE\n",
    "# nb_epoch = 200\n",
    "# for epoch in range(1, nb_epoch + 1):\n",
    "#     train_loss = 0\n",
    "#     s = 0.\n",
    "#     for id_user in range(nb_students):\n",
    "#         input = Variable(training_set[id_user]).unsqueeze(0)\n",
    "#         target = input.clone()\n",
    "    \n",
    "#         if torch.sum(target.data > 0) > 0:\n",
    "#             output = sae(input.unsqueeze_(2))\n",
    "#             print(input.shape)\n",
    "#             target.require_grad = False\n",
    "#             output[target == 0] = 0\n",
    "#             loss = criterion(output, target)\n",
    "#             mean_corrector = nb_courses/float(torch.sum(target.data > 0) + 1e-10)\n",
    "#             loss.backward()\n",
    "#             #train_loss += np.sqrt(loss.data[0]*mean_corrector)\n",
    "#             train_loss += np.sqrt(loss.item()*mean_corrector)\n",
    "\n",
    "#             s += 1.\n",
    "#             optimizer.step()\n",
    "#     print('epoch: '+str(epoch)+' loss: '+str(train_loss/s))\n",
    "# # data = data.view(data.size(0), -1)\n",
    "# # output = model(data)[]"
   ]
  },
  {
   "cell_type": "code",
   "execution_count": 66,
   "metadata": {},
   "outputs": [
    {
     "name": "stdout",
     "output_type": "stream",
     "text": [
      "epoch: 1 loss: 1.6593946487995832\n",
      "epoch: 2 loss: 1.5912049616363964\n",
      "epoch: 3 loss: 1.408845830215108\n",
      "epoch: 4 loss: 1.6402794744629916\n",
      "epoch: 5 loss: 1.6653596939685058\n",
      "epoch: 6 loss: 1.5175325483142816\n",
      "epoch: 7 loss: 1.4846109096681406\n",
      "epoch: 8 loss: 1.4970611211231521\n",
      "epoch: 9 loss: 1.5903077570546793\n",
      "epoch: 10 loss: 1.6353190275967517\n",
      "epoch: 11 loss: 1.6114501652368576\n",
      "epoch: 12 loss: 1.4813505901562738\n",
      "epoch: 13 loss: 1.6511336184321446\n",
      "epoch: 14 loss: 1.6021618261983352\n",
      "epoch: 15 loss: 1.5017363278526246\n",
      "epoch: 16 loss: 1.5427506270727112\n",
      "epoch: 17 loss: 1.553131123937052\n",
      "epoch: 18 loss: 1.5936641767288993\n",
      "epoch: 19 loss: 1.6124230829870716\n",
      "epoch: 20 loss: 1.601500761608159\n",
      "epoch: 21 loss: 1.4675017003403716\n",
      "epoch: 22 loss: 1.5884963307357882\n",
      "epoch: 23 loss: 1.560525552901746\n",
      "epoch: 24 loss: 1.4300496901455646\n",
      "epoch: 25 loss: 1.609485380858293\n",
      "epoch: 26 loss: 1.6493725442786833\n",
      "epoch: 27 loss: 1.646547763009158\n",
      "epoch: 28 loss: 1.5937120190635352\n",
      "epoch: 29 loss: 1.4993221091523121\n",
      "epoch: 30 loss: 1.4380987084722392\n",
      "epoch: 31 loss: 1.6907937062249563\n",
      "epoch: 32 loss: 1.6503645929414155\n",
      "epoch: 33 loss: 1.4346215870697987\n",
      "epoch: 34 loss: 1.4978919209655028\n",
      "epoch: 35 loss: 1.5980894433695223\n",
      "epoch: 36 loss: 1.646230955897003\n",
      "epoch: 37 loss: 1.624030511138312\n",
      "epoch: 38 loss: 1.4868163767479328\n",
      "epoch: 39 loss: 1.3653597197661618\n",
      "epoch: 40 loss: 1.5874083501439746\n",
      "epoch: 41 loss: 1.694864281951979\n",
      "epoch: 42 loss: 1.5850715573800065\n",
      "epoch: 43 loss: 1.6091479812756986\n",
      "epoch: 44 loss: 1.5079839997352222\n",
      "epoch: 45 loss: 1.4746091090303814\n",
      "epoch: 46 loss: 1.628005466530363\n",
      "epoch: 47 loss: 1.6045067759245195\n",
      "epoch: 48 loss: 1.574535544847873\n",
      "epoch: 49 loss: 1.586469725897307\n",
      "epoch: 50 loss: 1.5594404626178942\n",
      "epoch: 51 loss: 1.4996061777723635\n",
      "epoch: 52 loss: 1.5806249555775405\n",
      "epoch: 53 loss: 1.6001047563025728\n",
      "epoch: 54 loss: 1.4736556905642817\n",
      "epoch: 55 loss: 1.5436167306598787\n",
      "epoch: 56 loss: 1.5443406284219126\n",
      "epoch: 57 loss: 1.59355013649407\n",
      "epoch: 58 loss: 1.7117700910258735\n",
      "epoch: 59 loss: 1.6248774384738798\n",
      "epoch: 60 loss: 1.4168743949544882\n",
      "epoch: 61 loss: 1.5354541823944252\n",
      "epoch: 62 loss: 1.6247039626824342\n",
      "epoch: 63 loss: 1.5338297854724765\n",
      "epoch: 64 loss: 1.6667781242931363\n",
      "epoch: 65 loss: 1.5595147165916319\n",
      "epoch: 66 loss: 1.4716850128360528\n",
      "epoch: 67 loss: 1.5709200057262418\n",
      "epoch: 68 loss: 1.522611497267265\n",
      "epoch: 69 loss: 1.5012587431754005\n",
      "epoch: 70 loss: 1.5846779617968443\n",
      "epoch: 71 loss: 1.6356179805291624\n",
      "epoch: 72 loss: 1.507779594920843\n",
      "epoch: 73 loss: 1.6725228448140554\n",
      "epoch: 74 loss: 1.5873393419596733\n",
      "epoch: 75 loss: 1.5109185036992356\n",
      "epoch: 76 loss: 1.5826436824646488\n",
      "epoch: 77 loss: 1.5256018624205665\n",
      "epoch: 78 loss: 1.540837586156943\n",
      "epoch: 79 loss: 1.598871330309343\n",
      "epoch: 80 loss: 1.602706282532624\n",
      "epoch: 81 loss: 1.4948755535307596\n",
      "epoch: 82 loss: 1.5740881448542516\n",
      "epoch: 83 loss: 1.5626624683122279\n",
      "epoch: 84 loss: 1.4873722596918766\n",
      "epoch: 85 loss: 1.6062987966610311\n",
      "epoch: 86 loss: 1.5555201443769013\n",
      "epoch: 87 loss: 1.5912784528832298\n",
      "epoch: 88 loss: 1.631982327386672\n",
      "epoch: 89 loss: 1.5717985119936009\n",
      "epoch: 90 loss: 1.4633133858257719\n",
      "epoch: 91 loss: 1.571700470715532\n",
      "epoch: 92 loss: 1.6264442549739646\n",
      "epoch: 93 loss: 1.496188944850699\n",
      "epoch: 94 loss: 1.6120641240729139\n",
      "epoch: 95 loss: 1.5778296156993563\n",
      "epoch: 96 loss: 1.5808923778469384\n",
      "epoch: 97 loss: 1.6055885089219784\n",
      "epoch: 98 loss: 1.5024769749700446\n",
      "epoch: 99 loss: 1.43950716454791\n",
      "epoch: 100 loss: 1.5783383910935715\n",
      "epoch: 101 loss: 1.6812563982819486\n",
      "epoch: 102 loss: 1.5142349894126301\n",
      "epoch: 103 loss: 1.6167988016603754\n",
      "epoch: 104 loss: 1.5818219645289928\n",
      "epoch: 105 loss: 1.5510661382441793\n",
      "epoch: 106 loss: 1.6532882349175717\n",
      "epoch: 107 loss: 1.5262451586855\n",
      "epoch: 108 loss: 1.4995759705447878\n",
      "epoch: 109 loss: 1.6034064624887776\n",
      "epoch: 110 loss: 1.6556434193553087\n",
      "epoch: 111 loss: 1.5233437640017666\n",
      "epoch: 112 loss: 1.5135934575761483\n",
      "epoch: 113 loss: 1.5184805431291348\n",
      "epoch: 114 loss: 1.5135488591657953\n",
      "epoch: 115 loss: 1.629596474014509\n",
      "epoch: 116 loss: 1.5302003899714758\n",
      "epoch: 117 loss: 1.5621008008002275\n",
      "epoch: 118 loss: 1.647370617988461\n",
      "epoch: 119 loss: 1.6839417703239061\n",
      "epoch: 120 loss: 1.4586092912169906\n",
      "epoch: 121 loss: 1.5050030944275765\n",
      "epoch: 122 loss: 1.5911972696236172\n",
      "epoch: 123 loss: 1.5226438518476144\n",
      "epoch: 124 loss: 1.64971442097579\n",
      "epoch: 125 loss: 1.5092699644948073\n",
      "epoch: 126 loss: 1.4701197124879597\n",
      "epoch: 127 loss: 1.625563339359525\n",
      "epoch: 128 loss: 1.601762665143031\n",
      "epoch: 129 loss: 1.4613368064652927\n",
      "epoch: 130 loss: 1.5483442194178423\n",
      "epoch: 131 loss: 1.6217467377795292\n",
      "epoch: 132 loss: 1.576131468479164\n",
      "epoch: 133 loss: 1.664897325658475\n",
      "epoch: 134 loss: 1.5168873465803105\n",
      "epoch: 135 loss: 1.4836669191506113\n",
      "epoch: 136 loss: 1.6611667746308623\n",
      "epoch: 137 loss: 1.632824820106922\n",
      "epoch: 138 loss: 1.4462915610064084\n",
      "epoch: 139 loss: 1.5000312353328757\n",
      "epoch: 140 loss: 1.6349293426848168\n",
      "epoch: 141 loss: 1.6495230173889575\n",
      "epoch: 142 loss: 1.6427835611476764\n",
      "epoch: 143 loss: 1.4250135841678349\n",
      "epoch: 144 loss: 1.3560105499306705\n",
      "epoch: 145 loss: 1.6557305464031482\n",
      "epoch: 146 loss: 1.6987620966733132\n",
      "epoch: 147 loss: 1.5739639705987885\n",
      "epoch: 148 loss: 1.5203231775809531\n",
      "epoch: 149 loss: 1.5539719227627649\n",
      "epoch: 150 loss: 1.549207088789142\n",
      "epoch: 151 loss: 1.6380919498237485\n",
      "epoch: 152 loss: 1.5739860397547922\n",
      "epoch: 153 loss: 1.4647489327826915\n",
      "epoch: 154 loss: 1.587191079680136\n",
      "epoch: 155 loss: 1.5571888753553924\n",
      "epoch: 156 loss: 1.4918371133379724\n",
      "epoch: 157 loss: 1.5436409675312424\n",
      "epoch: 158 loss: 1.6109356107199535\n",
      "epoch: 159 loss: 1.5046234082102545\n",
      "epoch: 160 loss: 1.3921605536993986\n",
      "epoch: 161 loss: 1.4756930982378078\n",
      "epoch: 162 loss: 1.4980914246453114\n",
      "epoch: 163 loss: 1.611978558369576\n",
      "epoch: 164 loss: 1.6616218209397184\n",
      "epoch: 165 loss: 1.3797099144237142\n",
      "epoch: 166 loss: 1.3573375389558318\n",
      "epoch: 167 loss: 1.6329257031287012\n",
      "epoch: 168 loss: 1.6604088291751335\n",
      "epoch: 169 loss: 1.4724731516386802\n",
      "epoch: 170 loss: 1.3823232395717735\n",
      "epoch: 171 loss: 1.4313103896575556\n",
      "epoch: 172 loss: 1.5897437827279555\n",
      "epoch: 173 loss: 1.6599007959480305\n",
      "epoch: 174 loss: 1.4939437260298767\n",
      "epoch: 175 loss: 1.3169097032616939\n",
      "epoch: 176 loss: 1.5237682704092173\n",
      "epoch: 177 loss: 1.5840531826059452\n",
      "epoch: 178 loss: 1.5159238256738095\n",
      "epoch: 179 loss: 1.59673849765809\n",
      "epoch: 180 loss: 1.5176258473174227\n",
      "epoch: 181 loss: 1.4579637512194805\n",
      "epoch: 182 loss: 1.5850238867853474\n",
      "epoch: 183 loss: 1.5152807121701453\n",
      "epoch: 184 loss: 1.4457348539952004\n",
      "epoch: 185 loss: 1.5950902482902678\n",
      "epoch: 186 loss: 1.529874595532172\n",
      "epoch: 187 loss: 1.4332193021773314\n",
      "epoch: 188 loss: 1.5070614937686198\n",
      "epoch: 189 loss: 1.5527401549978177\n",
      "epoch: 190 loss: 1.5445936333095556\n",
      "epoch: 191 loss: 1.5515109953729105\n",
      "epoch: 192 loss: 1.4726492932079418\n",
      "epoch: 193 loss: 1.3957683798023879\n",
      "epoch: 194 loss: 1.6258926138554304\n",
      "epoch: 195 loss: 1.6010619358909983\n",
      "epoch: 196 loss: 1.4516758384930355\n",
      "epoch: 197 loss: 1.4933147454030915\n",
      "epoch: 198 loss: 1.548679647610293\n",
      "epoch: 199 loss: 1.5190959098228087\n",
      "epoch: 200 loss: 1.5729346250795426\n"
     ]
    }
   ],
   "source": [
    "# Training the SAE\n",
    "nb_epoch = 200\n",
    "for epoch in range(1, nb_epoch + 1):\n",
    "    train_loss = 0\n",
    "    s = 0.\n",
    "    for id_user in range(nb_students):\n",
    "        input = Variable(training_set[id_user]).unsqueeze(0)\n",
    "        target = input.clone()\n",
    "        if torch.sum(target.data > 0) > 0:\n",
    "            output = sae(input)\n",
    "            target.require_grad = False\n",
    "            output[target == 0] = 0\n",
    "            loss = criterion(output, target)\n",
    "            mean_corrector = nb_courses/float(torch.sum(target.data > 0) + 1e-10)\n",
    "            loss.backward()\n",
    "            \n",
    "            train_loss += np.sqrt(loss.item()*mean_corrector)\n",
    "\n",
    "            s += 1.\n",
    "            optimizer.step()\n",
    "    print('epoch: '+str(epoch)+' loss: '+str(train_loss/s))\n"
   ]
  },
  {
   "cell_type": "code",
   "execution_count": 67,
   "metadata": {},
   "outputs": [
    {
     "name": "stdout",
     "output_type": "stream",
     "text": [
      "test loss: 1.4976006239883985\n"
     ]
    }
   ],
   "source": [
    "# Testing the SAE\n",
    "test_loss = 0\n",
    "s = 0.\n",
    "for id_user in range(nb_students):\n",
    "    input = Variable(training_set[id_user]).unsqueeze(0)\n",
    "    #target = Variable(test_set[id_user]).unsqueeze(0)\n",
    "for id_user in range(test_set.shape[0]):\n",
    "    target = Variable(test_set[id_user]).unsqueeze(0)\n",
    "\n",
    "\n",
    "    if torch.sum(target.data > 0) > 0:\n",
    "        output = sae(input)\n",
    "        target.require_grad = False\n",
    "        output[target == 0] = 0\n",
    "        loss = criterion(output, target)\n",
    "        mean_corrector = nb_courses/float(torch.sum(target.data > 0) + 1e-10)\n",
    "        test_loss += np.sqrt(loss.item()*mean_corrector)\n",
    "\n",
    "        s += 1.\n",
    "print('test loss: '+str(test_loss/s))"
   ]
  },
  {
   "cell_type": "code",
   "execution_count": null,
   "metadata": {},
   "outputs": [],
   "source": [
    "for i in range(1,1682):\n",
    "    print(target[0][i])"
   ]
  },
  {
   "cell_type": "code",
   "execution_count": 68,
   "metadata": {},
   "outputs": [
    {
     "data": {
      "text/plain": [
       "torch.Size([1, 9])"
      ]
     },
     "execution_count": 68,
     "metadata": {},
     "output_type": "execute_result"
    }
   ],
   "source": [
    "target.shape"
   ]
  },
  {
   "cell_type": "code",
   "execution_count": 69,
   "metadata": {},
   "outputs": [
    {
     "name": "stdout",
     "output_type": "stream",
     "text": [
      "   MA101\n",
      "0    0.0\n",
      "1    6.0\n",
      "2   10.0\n",
      "3    6.0\n",
      "4   10.0\n",
      "5    9.0\n",
      "6    5.0\n",
      "7    6.0\n",
      "8    0.0\n"
     ]
    }
   ],
   "source": [
    "user_id = 1\n",
    "movie_title = movies.iloc[:nb_courses, 1:2]\n",
    "print(movie_title)\n",
    "user_rating = training_set.data.numpy()[user_id, :].reshape(-1,1)\n",
    "user_target = test_set.data.numpy()[user_id, :].reshape(-1,1)\n",
    " \n",
    "user_input = Variable(training_set[user_id]).unsqueeze(0)\n",
    "predicted = sae(user_input)\n",
    "predicted = predicted.data.numpy().reshape(-1,1)\n",
    " \n",
    "# Join all info in one dataset\n",
    "result_array = np.hstack([movie_title, user_target, predicted])\n",
    "result_array = result_array[result_array[:, 1] > 0]\n",
    "result_df = pd.DataFrame(data=result_array, columns=['Movie', 'Target Rating', 'Predicted'])"
   ]
  },
  {
   "cell_type": "code",
   "execution_count": 70,
   "metadata": {},
   "outputs": [
    {
     "data": {
      "text/html": [
       "<div>\n",
       "<style scoped>\n",
       "    .dataframe tbody tr th:only-of-type {\n",
       "        vertical-align: middle;\n",
       "    }\n",
       "\n",
       "    .dataframe tbody tr th {\n",
       "        vertical-align: top;\n",
       "    }\n",
       "\n",
       "    .dataframe thead th {\n",
       "        text-align: right;\n",
       "    }\n",
       "</style>\n",
       "<table border=\"1\" class=\"dataframe\">\n",
       "  <thead>\n",
       "    <tr style=\"text-align: right;\">\n",
       "      <th></th>\n",
       "      <th>Movie</th>\n",
       "      <th>Target Rating</th>\n",
       "      <th>Predicted</th>\n",
       "    </tr>\n",
       "  </thead>\n",
       "  <tbody>\n",
       "    <tr>\n",
       "      <td>0</td>\n",
       "      <td>6.0</td>\n",
       "      <td>4.0</td>\n",
       "      <td>5.618593</td>\n",
       "    </tr>\n",
       "    <tr>\n",
       "      <td>1</td>\n",
       "      <td>6.0</td>\n",
       "      <td>7.0</td>\n",
       "      <td>7.364008</td>\n",
       "    </tr>\n",
       "    <tr>\n",
       "      <td>2</td>\n",
       "      <td>10.0</td>\n",
       "      <td>6.0</td>\n",
       "      <td>6.647569</td>\n",
       "    </tr>\n",
       "    <tr>\n",
       "      <td>3</td>\n",
       "      <td>5.0</td>\n",
       "      <td>10.0</td>\n",
       "      <td>9.864161</td>\n",
       "    </tr>\n",
       "    <tr>\n",
       "      <td>4</td>\n",
       "      <td>6.0</td>\n",
       "      <td>9.0</td>\n",
       "      <td>7.822873</td>\n",
       "    </tr>\n",
       "    <tr>\n",
       "      <td>5</td>\n",
       "      <td>0.0</td>\n",
       "      <td>8.0</td>\n",
       "      <td>10.628405</td>\n",
       "    </tr>\n",
       "  </tbody>\n",
       "</table>\n",
       "</div>"
      ],
      "text/plain": [
       "   Movie  Target Rating  Predicted\n",
       "0    6.0            4.0   5.618593\n",
       "1    6.0            7.0   7.364008\n",
       "2   10.0            6.0   6.647569\n",
       "3    5.0           10.0   9.864161\n",
       "4    6.0            9.0   7.822873\n",
       "5    0.0            8.0  10.628405"
      ]
     },
     "execution_count": 70,
     "metadata": {},
     "output_type": "execute_result"
    }
   ],
   "source": [
    "result_df"
   ]
  },
  {
   "cell_type": "code",
   "execution_count": 71,
   "metadata": {},
   "outputs": [
    {
     "data": {
      "text/plain": [
       "tensor([[ 0.,  0.,  5.,  7.,  6.,  5.,  7.,  9.,  8.],\n",
       "        [ 0.,  4.,  0.,  7.,  6.,  0., 10.,  9.,  8.],\n",
       "        [ 8.,  8.,  7.,  9.,  7.,  7., 10., 10., 10.],\n",
       "        [ 0.,  0.,  7.,  0.,  7.,  0., 10.,  7., 10.],\n",
       "        [ 6.,  9.,  8.,  7.,  7.,  0., 10., 10.,  8.],\n",
       "        [10., 10.,  6.,  8.,  9.,  8., 10.,  9., 10.],\n",
       "        [ 7.,  7.,  5.,  7.,  7.,  5., 10.,  9., 10.],\n",
       "        [ 0.,  0.,  0.,  0.,  0.,  0.,  9.,  8.,  7.],\n",
       "        [ 7.,  7.,  6.,  7.,  8.,  7., 10., 10., 10.],\n",
       "        [ 6.,  7.,  8.,  6.,  7.,  6., 10., 10., 10.],\n",
       "        [10.,  7.,  0.,  6.,  7.,  6., 10., 10., 10.]])"
      ]
     },
     "execution_count": 71,
     "metadata": {},
     "output_type": "execute_result"
    }
   ],
   "source": [
    "test_set"
   ]
  },
  {
   "cell_type": "code",
   "execution_count": 104,
   "metadata": {},
   "outputs": [
    {
     "name": "stdout",
     "output_type": "stream",
     "text": [
      "(9, 1)\n"
     ]
    }
   ],
   "source": [
    "user_id = 4\n",
    "print(movie_title.shape)\n",
    "user_rating = training_set.data.numpy()[user_id, :].reshape(-1,1)\n",
    "user_target = test_set.data.numpy()[user_id, :].reshape(-1,1)\n",
    " \n",
    "user_input = Variable(training_set[user_id]).unsqueeze(0)\n",
    "predicted = sae(user_input)\n",
    "predicted = predicted.data.numpy().reshape(-1,1)\n",
    " \n",
    "# Join all info in one dataset\n",
    "result_array = np.hstack([d, user_target, predicted])\n",
    "result_array = result_array[result_array[:, 1] > 0]\n",
    "result_df = pd.DataFrame(data=result_array, columns=['courses', 'Target Rating', 'Predicted'])"
   ]
  },
  {
   "cell_type": "code",
   "execution_count": 105,
   "metadata": {},
   "outputs": [
    {
     "data": {
      "text/html": [
       "<div>\n",
       "<style scoped>\n",
       "    .dataframe tbody tr th:only-of-type {\n",
       "        vertical-align: middle;\n",
       "    }\n",
       "\n",
       "    .dataframe tbody tr th {\n",
       "        vertical-align: top;\n",
       "    }\n",
       "\n",
       "    .dataframe thead th {\n",
       "        text-align: right;\n",
       "    }\n",
       "</style>\n",
       "<table border=\"1\" class=\"dataframe\">\n",
       "  <thead>\n",
       "    <tr style=\"text-align: right;\">\n",
       "      <th></th>\n",
       "      <th>courses</th>\n",
       "      <th>Target Rating</th>\n",
       "      <th>Predicted</th>\n",
       "    </tr>\n",
       "  </thead>\n",
       "  <tbody>\n",
       "    <tr>\n",
       "      <td>0</td>\n",
       "      <td>MA101</td>\n",
       "      <td>6</td>\n",
       "      <td>7.13807</td>\n",
       "    </tr>\n",
       "    <tr>\n",
       "      <td>1</td>\n",
       "      <td>PH100</td>\n",
       "      <td>9</td>\n",
       "      <td>5.61859</td>\n",
       "    </tr>\n",
       "    <tr>\n",
       "      <td>2</td>\n",
       "      <td>BE10105</td>\n",
       "      <td>8</td>\n",
       "      <td>7.49298</td>\n",
       "    </tr>\n",
       "    <tr>\n",
       "      <td>3</td>\n",
       "      <td>BE110</td>\n",
       "      <td>7</td>\n",
       "      <td>7.36401</td>\n",
       "    </tr>\n",
       "    <tr>\n",
       "      <td>4</td>\n",
       "      <td>BE103</td>\n",
       "      <td>7</td>\n",
       "      <td>6.64757</td>\n",
       "    </tr>\n",
       "    <tr>\n",
       "      <td>5</td>\n",
       "      <td>PH110</td>\n",
       "      <td>10</td>\n",
       "      <td>9.86416</td>\n",
       "    </tr>\n",
       "    <tr>\n",
       "      <td>6</td>\n",
       "      <td>EC110</td>\n",
       "      <td>10</td>\n",
       "      <td>7.82287</td>\n",
       "    </tr>\n",
       "    <tr>\n",
       "      <td>7</td>\n",
       "      <td>CS110</td>\n",
       "      <td>8</td>\n",
       "      <td>10.6284</td>\n",
       "    </tr>\n",
       "  </tbody>\n",
       "</table>\n",
       "</div>"
      ],
      "text/plain": [
       "    courses Target Rating Predicted\n",
       "0     MA101             6   7.13807\n",
       "1     PH100             9   5.61859\n",
       "2   BE10105             8   7.49298\n",
       "3     BE110             7   7.36401\n",
       "4     BE103             7   6.64757\n",
       "5     PH110            10   9.86416\n",
       "6     EC110            10   7.82287\n",
       "7     CS110             8   10.6284"
      ]
     },
     "execution_count": 105,
     "metadata": {},
     "output_type": "execute_result"
    }
   ],
   "source": [
    "\n",
    "result_df\n"
   ]
  },
  {
   "cell_type": "code",
   "execution_count": 73,
   "metadata": {},
   "outputs": [
    {
     "data": {
      "text/plain": [
       "array([[ 6.],\n",
       "       [ 6.],\n",
       "       [ 5.],\n",
       "       [ 6.],\n",
       "       [ 6.],\n",
       "       [ 0.],\n",
       "       [10.],\n",
       "       [ 8.],\n",
       "       [10.]], dtype=float32)"
      ]
     },
     "execution_count": 73,
     "metadata": {},
     "output_type": "execute_result"
    }
   ],
   "source": [
    "user_rating"
   ]
  },
  {
   "cell_type": "code",
   "execution_count": 74,
   "metadata": {},
   "outputs": [
    {
     "data": {
      "text/plain": [
       "tensor([[ 6.,  6.,  5.,  6.,  6.,  0., 10.,  8., 10.],\n",
       "        [ 5.,  6.,  5.,  6.,  7.,  0., 10.,  9.,  9.],\n",
       "        [ 0.,  0.,  0.,  0.,  7.,  0.,  9.,  7.,  8.],\n",
       "        [10.,  8.,  0., 10.,  8.,  7., 10., 10.,  9.],\n",
       "        [ 0.,  0.,  9.,  6.,  6.,  0., 10.,  8.,  9.],\n",
       "        [ 7.,  7.,  8.,  8.,  6.,  0., 10., 10., 10.],\n",
       "        [ 6.,  6.,  5.,  0.,  6.,  5., 10., 10., 10.],\n",
       "        [ 7.,  9.,  8., 10.,  8.,  6., 10., 10., 10.],\n",
       "        [ 5.,  5.,  6.,  7.,  7.,  6.,  9., 10.,  9.],\n",
       "        [ 7.,  6.,  5.,  9.,  7.,  6., 10.,  9.,  9.],\n",
       "        [ 5.,  6.,  5.,  7.,  6.,  0., 10., 10.,  8.],\n",
       "        [10.,  8.,  7.,  9.,  6.,  7.,  9.,  8., 10.],\n",
       "        [ 5.,  6.,  0.,  7.,  6.,  5., 10., 10.,  9.],\n",
       "        [ 8.,  7.,  6.,  7.,  7.,  7., 10., 10., 10.],\n",
       "        [ 7.,  7.,  6., 10.,  7.,  7.,  9.,  8., 10.],\n",
       "        [ 9.,  9.,  8.,  8.,  8.,  9., 10., 10., 10.],\n",
       "        [ 9.,  7.,  0.,  8.,  7.,  9., 10., 10.,  9.],\n",
       "        [ 7.,  6.,  9., 10.,  8.,  6.,  9., 10., 10.],\n",
       "        [ 6.,  5.,  5.,  7.,  6.,  6., 10., 10., 10.],\n",
       "        [ 0.,  6.,  0.,  6.,  7.,  5.,  9.,  7.,  9.],\n",
       "        [ 6.,  4.,  0.,  0.,  5.,  0.,  9.,  7.,  8.],\n",
       "        [ 0.,  4.,  0.,  7.,  7.,  0.,  8.,  8., 10.],\n",
       "        [10., 10.,  9., 10.,  8.,  8., 10.,  9., 10.],\n",
       "        [ 8.,  6.,  0.,  0.,  9.,  5.,  9.,  9., 10.],\n",
       "        [ 0.,  6.,  0.,  0.,  6.,  0., 10.,  9., 10.],\n",
       "        [ 5.,  6.,  0.,  7.,  7.,  0.,  9.,  9., 10.],\n",
       "        [ 8.,  9.,  5.,  9.,  7.,  8., 10., 10., 10.],\n",
       "        [ 6.,  7.,  7.,  7.,  7.,  0., 10.,  9., 10.],\n",
       "        [ 9.,  7.,  8., 10.,  7.,  0., 10.,  8., 10.],\n",
       "        [ 0.,  0.,  0.,  0.,  7.,  0.,  9.,  8., 10.],\n",
       "        [ 0.,  5.,  0.,  6.,  8.,  0.,  9., 10.,  7.],\n",
       "        [ 5.,  6.,  0.,  0.,  7.,  0., 10.,  9., 10.],\n",
       "        [ 6.,  7.,  6.,  8.,  7.,  5., 10.,  9., 10.],\n",
       "        [ 7.,  9.,  8.,  7.,  7.,  7., 10.,  9.,  9.],\n",
       "        [ 8.,  9.,  7.,  9.,  8.,  9., 10., 10., 10.],\n",
       "        [ 7.,  8.,  9., 10.,  8.,  7., 10., 10., 10.],\n",
       "        [ 9., 10.,  6.,  8.,  9.,  7., 10., 10., 10.],\n",
       "        [ 6.,  7.,  8.,  0.,  6.,  6., 10.,  9.,  8.],\n",
       "        [ 0.,  5.,  5.,  6.,  7.,  0., 10.,  9.,  9.],\n",
       "        [ 6.,  9.,  5.,  7.,  9.,  7., 10., 10.,  9.],\n",
       "        [ 0.,  0.,  0.,  8.,  5.,  0.,  9.,  9.,  7.],\n",
       "        [10., 10.,  7.,  9.,  6.,  6., 10., 10., 10.],\n",
       "        [ 7.,  8.,  9.,  7.,  8.,  6., 10., 10., 10.]])"
      ]
     },
     "execution_count": 74,
     "metadata": {},
     "output_type": "execute_result"
    }
   ],
   "source": [
    "training_set"
   ]
  },
  {
   "cell_type": "code",
   "execution_count": 75,
   "metadata": {},
   "outputs": [
    {
     "data": {
      "text/plain": [
       "array([[0.],\n",
       "       [0.],\n",
       "       [5.],\n",
       "       [7.],\n",
       "       [6.],\n",
       "       [5.],\n",
       "       [7.],\n",
       "       [9.],\n",
       "       [8.]], dtype=float32)"
      ]
     },
     "execution_count": 75,
     "metadata": {},
     "output_type": "execute_result"
    }
   ],
   "source": [
    "user_target"
   ]
  },
  {
   "cell_type": "code",
   "execution_count": 76,
   "metadata": {},
   "outputs": [
    {
     "data": {
      "text/plain": [
       "tensor([[ 6.,  6.,  5.,  6.,  6.,  0., 10.,  8., 10.]])"
      ]
     },
     "execution_count": 76,
     "metadata": {},
     "output_type": "execute_result"
    }
   ],
   "source": [
    "user_input"
   ]
  },
  {
   "cell_type": "code",
   "execution_count": 77,
   "metadata": {},
   "outputs": [
    {
     "data": {
      "text/plain": [
       "array([[ 7.13807  ],\n",
       "       [ 5.618593 ],\n",
       "       [ 7.492981 ],\n",
       "       [ 7.364008 ],\n",
       "       [ 6.6475687],\n",
       "       [ 7.511931 ],\n",
       "       [ 9.864161 ],\n",
       "       [ 7.822873 ],\n",
       "       [10.628405 ]], dtype=float32)"
      ]
     },
     "execution_count": 77,
     "metadata": {},
     "output_type": "execute_result"
    }
   ],
   "source": [
    "predicted"
   ]
  },
  {
   "cell_type": "code",
   "execution_count": 18,
   "metadata": {},
   "outputs": [
    {
     "name": "stdout",
     "output_type": "stream",
     "text": [
      "(10,)\n"
     ]
    }
   ],
   "source": [
    "m=movies.iloc[0,:]\n",
    "print(m.shape)"
   ]
  },
  {
   "cell_type": "code",
   "execution_count": null,
   "metadata": {},
   "outputs": [],
   "source": [
    "m"
   ]
  },
  {
   "cell_type": "code",
   "execution_count": null,
   "metadata": {},
   "outputs": [],
   "source": [
    "movie_title[:nb_courses]"
   ]
  },
  {
   "cell_type": "code",
   "execution_count": null,
   "metadata": {},
   "outputs": [],
   "source": [
    "nb_courses"
   ]
  },
  {
   "cell_type": "code",
   "execution_count": 21,
   "metadata": {},
   "outputs": [],
   "source": [
    "index= movies.index"
   ]
  },
  {
   "cell_type": "code",
   "execution_count": 88,
   "metadata": {},
   "outputs": [],
   "source": [
    "columns=movies.columns"
   ]
  },
  {
   "cell_type": "code",
   "execution_count": 90,
   "metadata": {},
   "outputs": [],
   "source": [
    "c=columns.tolist()\n"
   ]
  },
  {
   "cell_type": "code",
   "execution_count": 91,
   "metadata": {},
   "outputs": [],
   "source": [
    "d=pd.DataFrame(c)"
   ]
  },
  {
   "cell_type": "code",
   "execution_count": 92,
   "metadata": {},
   "outputs": [
    {
     "data": {
      "text/html": [
       "<div>\n",
       "<style scoped>\n",
       "    .dataframe tbody tr th:only-of-type {\n",
       "        vertical-align: middle;\n",
       "    }\n",
       "\n",
       "    .dataframe tbody tr th {\n",
       "        vertical-align: top;\n",
       "    }\n",
       "\n",
       "    .dataframe thead th {\n",
       "        text-align: right;\n",
       "    }\n",
       "</style>\n",
       "<table border=\"1\" class=\"dataframe\">\n",
       "  <thead>\n",
       "    <tr style=\"text-align: right;\">\n",
       "      <th></th>\n",
       "      <th>0</th>\n",
       "    </tr>\n",
       "  </thead>\n",
       "  <tbody>\n",
       "    <tr>\n",
       "      <td>0</td>\n",
       "      <td>MA101</td>\n",
       "    </tr>\n",
       "    <tr>\n",
       "      <td>1</td>\n",
       "      <td>PH100</td>\n",
       "    </tr>\n",
       "    <tr>\n",
       "      <td>2</td>\n",
       "      <td>BE10105</td>\n",
       "    </tr>\n",
       "    <tr>\n",
       "      <td>3</td>\n",
       "      <td>BE110</td>\n",
       "    </tr>\n",
       "    <tr>\n",
       "      <td>4</td>\n",
       "      <td>BE103</td>\n",
       "    </tr>\n",
       "    <tr>\n",
       "      <td>5</td>\n",
       "      <td>EC100</td>\n",
       "    </tr>\n",
       "    <tr>\n",
       "      <td>6</td>\n",
       "      <td>PH110</td>\n",
       "    </tr>\n",
       "    <tr>\n",
       "      <td>7</td>\n",
       "      <td>EC110</td>\n",
       "    </tr>\n",
       "    <tr>\n",
       "      <td>8</td>\n",
       "      <td>CS110</td>\n",
       "    </tr>\n",
       "  </tbody>\n",
       "</table>\n",
       "</div>"
      ],
      "text/plain": [
       "          0\n",
       "0     MA101\n",
       "1     PH100\n",
       "2   BE10105\n",
       "3     BE110\n",
       "4     BE103\n",
       "5     EC100\n",
       "6     PH110\n",
       "7     EC110\n",
       "8     CS110"
      ]
     },
     "execution_count": 92,
     "metadata": {},
     "output_type": "execute_result"
    }
   ],
   "source": [
    "d"
   ]
  },
  {
   "cell_type": "code",
   "execution_count": null,
   "metadata": {},
   "outputs": [],
   "source": []
  }
 ],
 "metadata": {
  "kernelspec": {
   "display_name": "Python 3",
   "language": "python",
   "name": "python3"
  },
  "language_info": {
   "codemirror_mode": {
    "name": "ipython",
    "version": 3
   },
   "file_extension": ".py",
   "mimetype": "text/x-python",
   "name": "python",
   "nbconvert_exporter": "python",
   "pygments_lexer": "ipython3",
   "version": "3.7.4"
  }
 },
 "nbformat": 4,
 "nbformat_minor": 2
}

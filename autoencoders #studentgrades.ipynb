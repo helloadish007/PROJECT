{
 "cells": [
  {
   "cell_type": "code",
   "execution_count": 1,
   "metadata": {},
   "outputs": [],
   "source": [
    "# AutoEncoders\n",
    "\n",
    "# Importing the libraries\n",
    "import numpy as np\n",
    "import pandas as pd\n",
    "import torch\n",
    "import torch.nn as nn\n",
    "import torch.nn.parallel\n",
    "import torch.optim as optim\n",
    "import torch.utils.data\n",
    "from torch.autograd import Variable"
   ]
  },
  {
   "cell_type": "code",
   "execution_count": 89,
   "metadata": {},
   "outputs": [],
   "source": [
    "# # Importing the dataset\n",
    "movies = pd.read_csv('s1_improvised_only_grades.csv')\n",
    "# users = pd.read_csv('ml-1m/users.dat', sep = '::', header = None, engine = 'python', encoding = 'latin-1')\n",
    "# ratings = pd.read_csv('ml-1m/ratings.dat', sep = '::', header = None, engine = 'python', encoding = 'latin-1')\n"
   ]
  },
  {
   "cell_type": "code",
   "execution_count": 7,
   "metadata": {},
   "outputs": [
    {
     "data": {
      "text/plain": [
       "'/home/adish/Desktop'"
      ]
     },
     "execution_count": 7,
     "metadata": {},
     "output_type": "execute_result"
    }
   ],
   "source": [
    "pwd"
   ]
  },
  {
   "cell_type": "code",
   "execution_count": 13,
   "metadata": {},
   "outputs": [
    {
     "data": {
      "text/plain": [
       "(11, 10)"
      ]
     },
     "execution_count": 13,
     "metadata": {},
     "output_type": "execute_result"
    }
   ],
   "source": [
    "# Preparing the training set and the test set\n",
    "training_set = pd.read_csv('s1_train.csv')\n",
    "training_set = np.array(training_set, dtype = 'int')#user_id,movie_id,ratings\n",
    "test_set = pd.read_csv('s1_test.csv')\n",
    "test_set = np.array(test_set, dtype = 'int')\n",
    "test_set.shape\n",
    "#training_set.shape"
   ]
  },
  {
   "cell_type": "code",
   "execution_count": 82,
   "metadata": {},
   "outputs": [
    {
     "data": {
      "text/plain": [
       "torch.Size([11, 10])"
      ]
     },
     "execution_count": 82,
     "metadata": {},
     "output_type": "execute_result"
    }
   ],
   "source": [
    "test_set.shape\n",
    "#training_set.shape"
   ]
  },
  {
   "cell_type": "code",
   "execution_count": 81,
   "metadata": {},
   "outputs": [
    {
     "data": {
      "text/plain": [
       "42"
      ]
     },
     "execution_count": 81,
     "metadata": {},
     "output_type": "execute_result"
    }
   ],
   "source": [
    "#nb_students = int(max(max(training_set[:,0]), max(test_set[:,0])))\n",
    "#nb_courses = int(max(max(training_set[:,1]), max(test_set[:,1])))\n",
    "nb_students = max(training_set.shape[0], test_set.shape[0])-1\n",
    "nb_courses = max(training_set.shape[1], test_set.shape[1])\n",
    "nb_students\n",
    "#nb_courses"
   ]
  },
  {
   "cell_type": "code",
   "execution_count": 44,
   "metadata": {},
   "outputs": [],
   "source": [
    "# # Converting the data into an array with users in lines and movies in columns\n",
    "# def convert(data):\n",
    "#     new_data = []\n",
    "#     for id_users in range(1, nb_users + 1):\n",
    "#         id_movies = data[:,1][data[:,0] == id_users]\n",
    "#         id_ratings = data[:,2][data[:,0] == id_users]\n",
    "#         ratings = np.zeros(nb_movies)\n",
    "#         ratings[id_movies - 1] = id_ratings\n",
    "#         new_data.append(list(ratings))\n",
    "#     return new_data\n",
    "# training_set = convert(training_set)\n",
    "# test_set = convert(test_set)\n",
    "\n",
    "# Converting the data into Torch tensors\n",
    "training_set = torch.FloatTensor(training_set)\n",
    "test_set = torch.FloatTensor(test_set)\n"
   ]
  },
  {
   "cell_type": "code",
   "execution_count": 68,
   "metadata": {},
   "outputs": [],
   "source": [
    "# Creating the architecture of the Neural Network\n",
    "class SAE(nn.Module):\n",
    "    def __init__(self, ):\n",
    "        super(SAE, self).__init__()\n",
    "        self.fc1 = nn.Linear(nb_courses, 20)\n",
    "        self.fc2 = nn.Linear(20, 10)\n",
    "        self.fc3 = nn.Linear(10, 20)\n",
    "        self.fc4 = nn.Linear(20, nb_courses)\n",
    "        self.activation = nn.Sigmoid()\n",
    "    def forward(self, x):\n",
    "        x.view(x.size(0), -1) \n",
    "        x = self.activation(self.fc1(x))\n",
    "        x = self.activation(self.fc2(x))\n",
    "        x = self.activation(self.fc3(x))\n",
    "        x = self.fc4(x)\n",
    "        return x\n",
    "sae = SAE()\n",
    "criterion = nn.MSELoss()\n",
    "optimizer = optim.RMSprop(sae.parameters(), lr = 0.01, weight_decay = 0.5)\n"
   ]
  },
  {
   "cell_type": "code",
   "execution_count": 56,
   "metadata": {},
   "outputs": [],
   "source": [
    "# # Training the SAE\n",
    "# nb_epoch = 200\n",
    "# for epoch in range(1, nb_epoch + 1):\n",
    "#     train_loss = 0\n",
    "#     s = 0.\n",
    "#     for id_user in range(nb_users):\n",
    "#         input = Variable(training_set[id_user]).unsqueeze(0)\n",
    "#         target = input.clone()\n",
    "#         if torch.sum(target.data > 0) > 0:\n",
    "#             output = sae(input)\n",
    "#             target = Variable(test_set[id_user]).unsqueeze(0)\n",
    "#             output[target == 0] = 0\n",
    "#             loss = criterion(output, target)\n",
    "#             mean_corrector = nb_movies/float(torch.sum(target.data > 0) + 1e-10)\n",
    "#             loss.backward()\n",
    "#             train_loss += np.sqrt(loss.data*mean_corrector)\n",
    "#             s += 1.\n",
    "#             optimizer.step()\n",
    "#     print('epoch: '+str(epoch)+' loss: '+str(train_loss/s))\n"
   ]
  },
  {
   "cell_type": "code",
   "execution_count": 57,
   "metadata": {},
   "outputs": [],
   "source": [
    "# # Testing the SAE\n",
    "# test_loss = 0\n",
    "# s = 0.\n",
    "# for id_user in range(nb_users):\n",
    "#     input = Variable(training_set[id_user]).unsqueeze(0)\n",
    "#     #target = Variable(test_set[id_user])\n",
    "#     target = Variable(test_set[id_user]).unsqueeze(0)\n",
    "#     if torch.sum(target.data > 0) > 0:\n",
    "#         output = sae(input)\n",
    "#         target.require_grad = False\n",
    "#         output[(target == 0).unsqueeze(0)] = 0\n",
    "#         loss = criterion(output, target)\n",
    "#         mean_corrector = nb_movies/float(torch.sum(target.data > 0) + 1e-10)\n",
    "#         test_loss += np.sqrt(loss.data*mean_corrector)\n",
    "#         s += 1.\n",
    "# print('test loss: '+str(test_loss/s))"
   ]
  },
  {
   "cell_type": "code",
   "execution_count": 69,
   "metadata": {},
   "outputs": [
    {
     "ename": "RuntimeError",
     "evalue": "size mismatch, m1: [10 x 1], m2: [10 x 20] at /opt/conda/conda-bld/pytorch_1535493744281/work/aten/src/TH/generic/THTensorMath.cpp:2070",
     "output_type": "error",
     "traceback": [
      "\u001b[0;31m---------------------------------------------------------------------------\u001b[0m",
      "\u001b[0;31mRuntimeError\u001b[0m                              Traceback (most recent call last)",
      "\u001b[0;32m<ipython-input-69-de33f45edad3>\u001b[0m in \u001b[0;36m<module>\u001b[0;34m\u001b[0m\n\u001b[1;32m      9\u001b[0m \u001b[0;34m\u001b[0m\u001b[0m\n\u001b[1;32m     10\u001b[0m         \u001b[0;32mif\u001b[0m \u001b[0mtorch\u001b[0m\u001b[0;34m.\u001b[0m\u001b[0msum\u001b[0m\u001b[0;34m(\u001b[0m\u001b[0mtarget\u001b[0m\u001b[0;34m.\u001b[0m\u001b[0mdata\u001b[0m \u001b[0;34m>\u001b[0m \u001b[0;36m0\u001b[0m\u001b[0;34m)\u001b[0m \u001b[0;34m>\u001b[0m \u001b[0;36m0\u001b[0m\u001b[0;34m:\u001b[0m\u001b[0;34m\u001b[0m\u001b[0;34m\u001b[0m\u001b[0m\n\u001b[0;32m---> 11\u001b[0;31m             \u001b[0moutput\u001b[0m \u001b[0;34m=\u001b[0m \u001b[0msae\u001b[0m\u001b[0;34m(\u001b[0m\u001b[0minput\u001b[0m\u001b[0;34m.\u001b[0m\u001b[0munsqueeze_\u001b[0m\u001b[0;34m(\u001b[0m\u001b[0;36m2\u001b[0m\u001b[0;34m)\u001b[0m\u001b[0;34m)\u001b[0m\u001b[0;34m\u001b[0m\u001b[0;34m\u001b[0m\u001b[0m\n\u001b[0m\u001b[1;32m     12\u001b[0m             \u001b[0mprint\u001b[0m\u001b[0;34m(\u001b[0m\u001b[0minput\u001b[0m\u001b[0;34m.\u001b[0m\u001b[0mshape\u001b[0m\u001b[0;34m)\u001b[0m\u001b[0;34m\u001b[0m\u001b[0;34m\u001b[0m\u001b[0m\n\u001b[1;32m     13\u001b[0m             \u001b[0mtarget\u001b[0m\u001b[0;34m.\u001b[0m\u001b[0mrequire_grad\u001b[0m \u001b[0;34m=\u001b[0m \u001b[0;32mFalse\u001b[0m\u001b[0;34m\u001b[0m\u001b[0;34m\u001b[0m\u001b[0m\n",
      "\u001b[0;32m~/anaconda3/lib/python3.7/site-packages/torch/nn/modules/module.py\u001b[0m in \u001b[0;36m__call__\u001b[0;34m(self, *input, **kwargs)\u001b[0m\n\u001b[1;32m    475\u001b[0m             \u001b[0mresult\u001b[0m \u001b[0;34m=\u001b[0m \u001b[0mself\u001b[0m\u001b[0;34m.\u001b[0m\u001b[0m_slow_forward\u001b[0m\u001b[0;34m(\u001b[0m\u001b[0;34m*\u001b[0m\u001b[0minput\u001b[0m\u001b[0;34m,\u001b[0m \u001b[0;34m**\u001b[0m\u001b[0mkwargs\u001b[0m\u001b[0;34m)\u001b[0m\u001b[0;34m\u001b[0m\u001b[0;34m\u001b[0m\u001b[0m\n\u001b[1;32m    476\u001b[0m         \u001b[0;32melse\u001b[0m\u001b[0;34m:\u001b[0m\u001b[0;34m\u001b[0m\u001b[0;34m\u001b[0m\u001b[0m\n\u001b[0;32m--> 477\u001b[0;31m             \u001b[0mresult\u001b[0m \u001b[0;34m=\u001b[0m \u001b[0mself\u001b[0m\u001b[0;34m.\u001b[0m\u001b[0mforward\u001b[0m\u001b[0;34m(\u001b[0m\u001b[0;34m*\u001b[0m\u001b[0minput\u001b[0m\u001b[0;34m,\u001b[0m \u001b[0;34m**\u001b[0m\u001b[0mkwargs\u001b[0m\u001b[0;34m)\u001b[0m\u001b[0;34m\u001b[0m\u001b[0;34m\u001b[0m\u001b[0m\n\u001b[0m\u001b[1;32m    478\u001b[0m         \u001b[0;32mfor\u001b[0m \u001b[0mhook\u001b[0m \u001b[0;32min\u001b[0m \u001b[0mself\u001b[0m\u001b[0;34m.\u001b[0m\u001b[0m_forward_hooks\u001b[0m\u001b[0;34m.\u001b[0m\u001b[0mvalues\u001b[0m\u001b[0;34m(\u001b[0m\u001b[0;34m)\u001b[0m\u001b[0;34m:\u001b[0m\u001b[0;34m\u001b[0m\u001b[0;34m\u001b[0m\u001b[0m\n\u001b[1;32m    479\u001b[0m             \u001b[0mhook_result\u001b[0m \u001b[0;34m=\u001b[0m \u001b[0mhook\u001b[0m\u001b[0;34m(\u001b[0m\u001b[0mself\u001b[0m\u001b[0;34m,\u001b[0m \u001b[0minput\u001b[0m\u001b[0;34m,\u001b[0m \u001b[0mresult\u001b[0m\u001b[0;34m)\u001b[0m\u001b[0;34m\u001b[0m\u001b[0;34m\u001b[0m\u001b[0m\n",
      "\u001b[0;32m<ipython-input-68-8fc8d508759b>\u001b[0m in \u001b[0;36mforward\u001b[0;34m(self, x)\u001b[0m\n\u001b[1;32m     10\u001b[0m     \u001b[0;32mdef\u001b[0m \u001b[0mforward\u001b[0m\u001b[0;34m(\u001b[0m\u001b[0mself\u001b[0m\u001b[0;34m,\u001b[0m \u001b[0mx\u001b[0m\u001b[0;34m)\u001b[0m\u001b[0;34m:\u001b[0m\u001b[0;34m\u001b[0m\u001b[0;34m\u001b[0m\u001b[0m\n\u001b[1;32m     11\u001b[0m         \u001b[0mx\u001b[0m\u001b[0;34m.\u001b[0m\u001b[0mview\u001b[0m\u001b[0;34m(\u001b[0m\u001b[0mx\u001b[0m\u001b[0;34m.\u001b[0m\u001b[0msize\u001b[0m\u001b[0;34m(\u001b[0m\u001b[0;36m0\u001b[0m\u001b[0;34m)\u001b[0m\u001b[0;34m,\u001b[0m \u001b[0;34m-\u001b[0m\u001b[0;36m1\u001b[0m\u001b[0;34m)\u001b[0m\u001b[0;34m\u001b[0m\u001b[0;34m\u001b[0m\u001b[0m\n\u001b[0;32m---> 12\u001b[0;31m         \u001b[0mx\u001b[0m \u001b[0;34m=\u001b[0m \u001b[0mself\u001b[0m\u001b[0;34m.\u001b[0m\u001b[0mactivation\u001b[0m\u001b[0;34m(\u001b[0m\u001b[0mself\u001b[0m\u001b[0;34m.\u001b[0m\u001b[0mfc1\u001b[0m\u001b[0;34m(\u001b[0m\u001b[0mx\u001b[0m\u001b[0;34m)\u001b[0m\u001b[0;34m)\u001b[0m\u001b[0;34m\u001b[0m\u001b[0;34m\u001b[0m\u001b[0m\n\u001b[0m\u001b[1;32m     13\u001b[0m         \u001b[0mx\u001b[0m \u001b[0;34m=\u001b[0m \u001b[0mself\u001b[0m\u001b[0;34m.\u001b[0m\u001b[0mactivation\u001b[0m\u001b[0;34m(\u001b[0m\u001b[0mself\u001b[0m\u001b[0;34m.\u001b[0m\u001b[0mfc2\u001b[0m\u001b[0;34m(\u001b[0m\u001b[0mx\u001b[0m\u001b[0;34m)\u001b[0m\u001b[0;34m)\u001b[0m\u001b[0;34m\u001b[0m\u001b[0;34m\u001b[0m\u001b[0m\n\u001b[1;32m     14\u001b[0m         \u001b[0mx\u001b[0m \u001b[0;34m=\u001b[0m \u001b[0mself\u001b[0m\u001b[0;34m.\u001b[0m\u001b[0mactivation\u001b[0m\u001b[0;34m(\u001b[0m\u001b[0mself\u001b[0m\u001b[0;34m.\u001b[0m\u001b[0mfc3\u001b[0m\u001b[0;34m(\u001b[0m\u001b[0mx\u001b[0m\u001b[0;34m)\u001b[0m\u001b[0;34m)\u001b[0m\u001b[0;34m\u001b[0m\u001b[0;34m\u001b[0m\u001b[0m\n",
      "\u001b[0;32m~/anaconda3/lib/python3.7/site-packages/torch/nn/modules/module.py\u001b[0m in \u001b[0;36m__call__\u001b[0;34m(self, *input, **kwargs)\u001b[0m\n\u001b[1;32m    475\u001b[0m             \u001b[0mresult\u001b[0m \u001b[0;34m=\u001b[0m \u001b[0mself\u001b[0m\u001b[0;34m.\u001b[0m\u001b[0m_slow_forward\u001b[0m\u001b[0;34m(\u001b[0m\u001b[0;34m*\u001b[0m\u001b[0minput\u001b[0m\u001b[0;34m,\u001b[0m \u001b[0;34m**\u001b[0m\u001b[0mkwargs\u001b[0m\u001b[0;34m)\u001b[0m\u001b[0;34m\u001b[0m\u001b[0;34m\u001b[0m\u001b[0m\n\u001b[1;32m    476\u001b[0m         \u001b[0;32melse\u001b[0m\u001b[0;34m:\u001b[0m\u001b[0;34m\u001b[0m\u001b[0;34m\u001b[0m\u001b[0m\n\u001b[0;32m--> 477\u001b[0;31m             \u001b[0mresult\u001b[0m \u001b[0;34m=\u001b[0m \u001b[0mself\u001b[0m\u001b[0;34m.\u001b[0m\u001b[0mforward\u001b[0m\u001b[0;34m(\u001b[0m\u001b[0;34m*\u001b[0m\u001b[0minput\u001b[0m\u001b[0;34m,\u001b[0m \u001b[0;34m**\u001b[0m\u001b[0mkwargs\u001b[0m\u001b[0;34m)\u001b[0m\u001b[0;34m\u001b[0m\u001b[0;34m\u001b[0m\u001b[0m\n\u001b[0m\u001b[1;32m    478\u001b[0m         \u001b[0;32mfor\u001b[0m \u001b[0mhook\u001b[0m \u001b[0;32min\u001b[0m \u001b[0mself\u001b[0m\u001b[0;34m.\u001b[0m\u001b[0m_forward_hooks\u001b[0m\u001b[0;34m.\u001b[0m\u001b[0mvalues\u001b[0m\u001b[0;34m(\u001b[0m\u001b[0;34m)\u001b[0m\u001b[0;34m:\u001b[0m\u001b[0;34m\u001b[0m\u001b[0;34m\u001b[0m\u001b[0m\n\u001b[1;32m    479\u001b[0m             \u001b[0mhook_result\u001b[0m \u001b[0;34m=\u001b[0m \u001b[0mhook\u001b[0m\u001b[0;34m(\u001b[0m\u001b[0mself\u001b[0m\u001b[0;34m,\u001b[0m \u001b[0minput\u001b[0m\u001b[0;34m,\u001b[0m \u001b[0mresult\u001b[0m\u001b[0;34m)\u001b[0m\u001b[0;34m\u001b[0m\u001b[0;34m\u001b[0m\u001b[0m\n",
      "\u001b[0;32m~/anaconda3/lib/python3.7/site-packages/torch/nn/modules/linear.py\u001b[0m in \u001b[0;36mforward\u001b[0;34m(self, input)\u001b[0m\n\u001b[1;32m     53\u001b[0m \u001b[0;34m\u001b[0m\u001b[0m\n\u001b[1;32m     54\u001b[0m     \u001b[0;32mdef\u001b[0m \u001b[0mforward\u001b[0m\u001b[0;34m(\u001b[0m\u001b[0mself\u001b[0m\u001b[0;34m,\u001b[0m \u001b[0minput\u001b[0m\u001b[0;34m)\u001b[0m\u001b[0;34m:\u001b[0m\u001b[0;34m\u001b[0m\u001b[0;34m\u001b[0m\u001b[0m\n\u001b[0;32m---> 55\u001b[0;31m         \u001b[0;32mreturn\u001b[0m \u001b[0mF\u001b[0m\u001b[0;34m.\u001b[0m\u001b[0mlinear\u001b[0m\u001b[0;34m(\u001b[0m\u001b[0minput\u001b[0m\u001b[0;34m,\u001b[0m \u001b[0mself\u001b[0m\u001b[0;34m.\u001b[0m\u001b[0mweight\u001b[0m\u001b[0;34m,\u001b[0m \u001b[0mself\u001b[0m\u001b[0;34m.\u001b[0m\u001b[0mbias\u001b[0m\u001b[0;34m)\u001b[0m\u001b[0;34m\u001b[0m\u001b[0;34m\u001b[0m\u001b[0m\n\u001b[0m\u001b[1;32m     56\u001b[0m \u001b[0;34m\u001b[0m\u001b[0m\n\u001b[1;32m     57\u001b[0m     \u001b[0;32mdef\u001b[0m \u001b[0mextra_repr\u001b[0m\u001b[0;34m(\u001b[0m\u001b[0mself\u001b[0m\u001b[0;34m)\u001b[0m\u001b[0;34m:\u001b[0m\u001b[0;34m\u001b[0m\u001b[0;34m\u001b[0m\u001b[0m\n",
      "\u001b[0;32m~/anaconda3/lib/python3.7/site-packages/torch/nn/functional.py\u001b[0m in \u001b[0;36mlinear\u001b[0;34m(input, weight, bias)\u001b[0m\n\u001b[1;32m   1024\u001b[0m         \u001b[0;32mreturn\u001b[0m \u001b[0mtorch\u001b[0m\u001b[0;34m.\u001b[0m\u001b[0maddmm\u001b[0m\u001b[0;34m(\u001b[0m\u001b[0mbias\u001b[0m\u001b[0;34m,\u001b[0m \u001b[0minput\u001b[0m\u001b[0;34m,\u001b[0m \u001b[0mweight\u001b[0m\u001b[0;34m.\u001b[0m\u001b[0mt\u001b[0m\u001b[0;34m(\u001b[0m\u001b[0;34m)\u001b[0m\u001b[0;34m)\u001b[0m\u001b[0;34m\u001b[0m\u001b[0;34m\u001b[0m\u001b[0m\n\u001b[1;32m   1025\u001b[0m \u001b[0;34m\u001b[0m\u001b[0m\n\u001b[0;32m-> 1026\u001b[0;31m     \u001b[0moutput\u001b[0m \u001b[0;34m=\u001b[0m \u001b[0minput\u001b[0m\u001b[0;34m.\u001b[0m\u001b[0mmatmul\u001b[0m\u001b[0;34m(\u001b[0m\u001b[0mweight\u001b[0m\u001b[0;34m.\u001b[0m\u001b[0mt\u001b[0m\u001b[0;34m(\u001b[0m\u001b[0;34m)\u001b[0m\u001b[0;34m)\u001b[0m\u001b[0;34m\u001b[0m\u001b[0;34m\u001b[0m\u001b[0m\n\u001b[0m\u001b[1;32m   1027\u001b[0m     \u001b[0;32mif\u001b[0m \u001b[0mbias\u001b[0m \u001b[0;32mis\u001b[0m \u001b[0;32mnot\u001b[0m \u001b[0;32mNone\u001b[0m\u001b[0;34m:\u001b[0m\u001b[0;34m\u001b[0m\u001b[0;34m\u001b[0m\u001b[0m\n\u001b[1;32m   1028\u001b[0m         \u001b[0moutput\u001b[0m \u001b[0;34m+=\u001b[0m \u001b[0mbias\u001b[0m\u001b[0;34m\u001b[0m\u001b[0;34m\u001b[0m\u001b[0m\n",
      "\u001b[0;31mRuntimeError\u001b[0m: size mismatch, m1: [10 x 1], m2: [10 x 20] at /opt/conda/conda-bld/pytorch_1535493744281/work/aten/src/TH/generic/THTensorMath.cpp:2070"
     ]
    }
   ],
   "source": [
    "# Training the SAE\n",
    "nb_epoch = 200\n",
    "for epoch in range(1, nb_epoch + 1):\n",
    "    train_loss = 0\n",
    "    s = 0.\n",
    "    for id_user in range(nb_students):\n",
    "        input = Variable(training_set[id_user]).unsqueeze(0)\n",
    "        target = input.clone()\n",
    "    \n",
    "        if torch.sum(target.data > 0) > 0:\n",
    "            output = sae(input.unsqueeze_(2))\n",
    "            print(input.shape)\n",
    "            target.require_grad = False\n",
    "            output[target == 0] = 0\n",
    "            loss = criterion(output, target)\n",
    "            mean_corrector = nb_courses/float(torch.sum(target.data > 0) + 1e-10)\n",
    "            loss.backward()\n",
    "            #train_loss += np.sqrt(loss.data[0]*mean_corrector)\n",
    "            train_loss += np.sqrt(loss.item()*mean_corrector)\n",
    "\n",
    "            s += 1.\n",
    "            optimizer.step()\n",
    "    print('epoch: '+str(epoch)+' loss: '+str(train_loss/s))\n",
    "# data = data.view(data.size(0), -1)\n",
    "# output = model(data)[]"
   ]
  },
  {
   "cell_type": "code",
   "execution_count": 72,
   "metadata": {},
   "outputs": [
    {
     "name": "stdout",
     "output_type": "stream",
     "text": [
      "epoch: 1 loss: 5.822364061959979\n",
      "epoch: 2 loss: 5.76038912344871\n",
      "epoch: 3 loss: 5.923290105586815\n",
      "epoch: 4 loss: 5.884427517667222\n",
      "epoch: 5 loss: 5.908632584340508\n",
      "epoch: 6 loss: 5.794961382869698\n",
      "epoch: 7 loss: 5.849532125425715\n",
      "epoch: 8 loss: 5.761682807342576\n",
      "epoch: 9 loss: 5.824416393686232\n",
      "epoch: 10 loss: 5.906709383159256\n",
      "epoch: 11 loss: 5.959960050947148\n",
      "epoch: 12 loss: 5.802504752833365\n",
      "epoch: 13 loss: 5.886707644644789\n",
      "epoch: 14 loss: 5.84699178381337\n",
      "epoch: 15 loss: 5.932601694849039\n",
      "epoch: 16 loss: 5.873939333181759\n",
      "epoch: 17 loss: 5.857056818691206\n",
      "epoch: 18 loss: 5.82089726322953\n",
      "epoch: 19 loss: 5.8721791960974326\n",
      "epoch: 20 loss: 5.722315295046353\n",
      "epoch: 21 loss: 5.917035395922646\n",
      "epoch: 22 loss: 5.921207345906071\n",
      "epoch: 23 loss: 5.874157163239762\n",
      "epoch: 24 loss: 5.736997853080184\n",
      "epoch: 25 loss: 5.909270032259671\n",
      "epoch: 26 loss: 5.853838810564307\n",
      "epoch: 27 loss: 5.932291215487543\n",
      "epoch: 28 loss: 5.840770978662389\n",
      "epoch: 29 loss: 5.930198597113308\n",
      "epoch: 30 loss: 5.826941636182416\n",
      "epoch: 31 loss: 5.770861227158337\n",
      "epoch: 32 loss: 5.82984391430728\n",
      "epoch: 33 loss: 5.983563040137953\n",
      "epoch: 34 loss: 5.825295000188375\n",
      "epoch: 35 loss: 5.811017287028987\n",
      "epoch: 36 loss: 5.869485265680628\n",
      "epoch: 37 loss: 5.873143354186328\n",
      "epoch: 38 loss: 5.7813470898352675\n",
      "epoch: 39 loss: 5.940124625596776\n",
      "epoch: 40 loss: 5.893737369617359\n",
      "epoch: 41 loss: 5.838170512392837\n",
      "epoch: 42 loss: 5.736273898156148\n",
      "epoch: 43 loss: 5.937565292898755\n",
      "epoch: 44 loss: 5.902783495564301\n",
      "epoch: 45 loss: 5.921131058706952\n",
      "epoch: 46 loss: 5.800665984506701\n",
      "epoch: 47 loss: 5.899523223059915\n",
      "epoch: 48 loss: 5.785102450330234\n",
      "epoch: 49 loss: 5.8393177728633345\n",
      "epoch: 50 loss: 5.886275796167242\n",
      "epoch: 51 loss: 6.003681535570131\n",
      "epoch: 52 loss: 5.779181842570719\n",
      "epoch: 53 loss: 5.813142356365011\n",
      "epoch: 54 loss: 5.799832509678554\n",
      "epoch: 55 loss: 5.884495091000859\n",
      "epoch: 56 loss: 5.861884876052258\n",
      "epoch: 57 loss: 5.954766749579463\n",
      "epoch: 58 loss: 5.872446646375164\n",
      "epoch: 59 loss: 5.874752967747959\n",
      "epoch: 60 loss: 5.754563851672399\n",
      "epoch: 61 loss: 5.835356066783326\n",
      "epoch: 62 loss: 5.887471679455937\n",
      "epoch: 63 loss: 5.927448221159164\n",
      "epoch: 64 loss: 5.800505932755109\n",
      "epoch: 65 loss: 5.883309022071126\n",
      "epoch: 66 loss: 5.813279984025483\n",
      "epoch: 67 loss: 5.890459274098752\n",
      "epoch: 68 loss: 5.7964785149723905\n",
      "epoch: 69 loss: 5.907064524848813\n",
      "epoch: 70 loss: 5.844954480604165\n",
      "epoch: 71 loss: 5.907504744697446\n",
      "epoch: 72 loss: 5.834630352485084\n",
      "epoch: 73 loss: 5.948268709440026\n",
      "epoch: 74 loss: 5.86531941438398\n",
      "epoch: 75 loss: 5.802638970156091\n",
      "epoch: 76 loss: 5.760792834506737\n",
      "epoch: 77 loss: 5.915591619936127\n",
      "epoch: 78 loss: 5.843326950416376\n",
      "epoch: 79 loss: 5.9155633607165825\n",
      "epoch: 80 loss: 5.890793815216687\n",
      "epoch: 81 loss: 5.906029794538207\n",
      "epoch: 82 loss: 5.737416663619733\n",
      "epoch: 83 loss: 5.826008500282894\n",
      "epoch: 84 loss: 5.9030214111323245\n",
      "epoch: 85 loss: 5.977068607211311\n",
      "epoch: 86 loss: 5.859029847530257\n",
      "epoch: 87 loss: 5.851868003452763\n",
      "epoch: 88 loss: 5.810681541254454\n",
      "epoch: 89 loss: 5.799938089615172\n",
      "epoch: 90 loss: 5.75556924607937\n",
      "epoch: 91 loss: 5.9744965934807635\n",
      "epoch: 92 loss: 5.915258974659829\n",
      "epoch: 93 loss: 5.9182465388932854\n",
      "epoch: 94 loss: 5.801537847343304\n",
      "epoch: 95 loss: 5.855063081649474\n",
      "epoch: 96 loss: 5.7771311040411355\n",
      "epoch: 97 loss: 5.8969856650559604\n",
      "epoch: 98 loss: 5.818284743105363\n",
      "epoch: 99 loss: 5.923241601476269\n",
      "epoch: 100 loss: 5.8453548744066195\n",
      "epoch: 101 loss: 5.85234938113215\n",
      "epoch: 102 loss: 5.821512599035495\n",
      "epoch: 103 loss: 5.911719206353648\n",
      "epoch: 104 loss: 5.797600089516447\n",
      "epoch: 105 loss: 5.8987149563433565\n",
      "epoch: 106 loss: 5.868165273724719\n",
      "epoch: 107 loss: 5.948696494820774\n",
      "epoch: 108 loss: 5.878643352085902\n",
      "epoch: 109 loss: 5.830136791250831\n",
      "epoch: 110 loss: 5.797689136001664\n",
      "epoch: 111 loss: 5.864888358006285\n",
      "epoch: 112 loss: 5.768506102744353\n",
      "epoch: 113 loss: 5.901952380947602\n",
      "epoch: 114 loss: 5.919233394006263\n",
      "epoch: 115 loss: 5.909934016564109\n",
      "epoch: 116 loss: 5.747629475500836\n",
      "epoch: 117 loss: 5.870652906973084\n",
      "epoch: 118 loss: 5.844822702128225\n",
      "epoch: 119 loss: 5.921827942074067\n",
      "epoch: 120 loss: 5.843275470901598\n",
      "epoch: 121 loss: 5.984167297077299\n",
      "epoch: 122 loss: 5.844697996657824\n",
      "epoch: 123 loss: 5.762413697559949\n",
      "epoch: 124 loss: 5.765853150550425\n",
      "epoch: 125 loss: 5.944025785267307\n",
      "epoch: 126 loss: 5.840415183562245\n",
      "epoch: 127 loss: 5.833274706220287\n",
      "epoch: 128 loss: 5.8514472591770845\n",
      "epoch: 129 loss: 5.941144375365009\n",
      "epoch: 130 loss: 5.798884148964182\n",
      "epoch: 131 loss: 5.883810802897125\n",
      "epoch: 132 loss: 5.912757670153807\n",
      "epoch: 133 loss: 5.908615194786106\n",
      "epoch: 134 loss: 5.77526956404919\n",
      "epoch: 135 loss: 5.902461649217286\n",
      "epoch: 136 loss: 5.865214849753308\n",
      "epoch: 137 loss: 5.882574618339325\n",
      "epoch: 138 loss: 5.7655924361360045\n",
      "epoch: 139 loss: 5.903514888352703\n",
      "epoch: 140 loss: 5.821496774944869\n",
      "epoch: 141 loss: 5.850983724437543\n",
      "epoch: 142 loss: 5.808478528147494\n",
      "epoch: 143 loss: 5.974427269378289\n",
      "epoch: 144 loss: 5.819575775622546\n",
      "epoch: 145 loss: 5.862448921095356\n",
      "epoch: 146 loss: 5.815831651973291\n",
      "epoch: 147 loss: 5.914700638141275\n",
      "epoch: 148 loss: 5.84873102089371\n",
      "epoch: 149 loss: 5.894284632246358\n",
      "epoch: 150 loss: 5.821178181205064\n",
      "epoch: 151 loss: 5.918118728493269\n",
      "epoch: 152 loss: 5.81037408587823\n",
      "epoch: 153 loss: 5.834758984953494\n",
      "epoch: 154 loss: 5.88787399029931\n",
      "epoch: 155 loss: 5.894149685381206\n",
      "epoch: 156 loss: 5.7555105776695985\n",
      "epoch: 157 loss: 5.864714539628174\n",
      "epoch: 158 loss: 5.863254722210387\n",
      "epoch: 159 loss: 5.922918006427855\n",
      "epoch: 160 loss: 5.8525652282421845\n",
      "epoch: 161 loss: 5.899088129309841\n",
      "epoch: 162 loss: 5.849051102846571\n",
      "epoch: 163 loss: 5.900492023669967\n",
      "epoch: 164 loss: 5.785922585348207\n",
      "epoch: 165 loss: 5.950730493782577\n",
      "epoch: 166 loss: 5.893427306293456\n",
      "epoch: 167 loss: 5.839246616908516\n",
      "epoch: 168 loss: 5.750575876201542\n",
      "epoch: 169 loss: 5.878532936322602\n",
      "epoch: 170 loss: 5.789846365584042\n",
      "epoch: 171 loss: 5.87912789448806\n",
      "epoch: 172 loss: 5.8812299996134545\n",
      "epoch: 173 loss: 5.932946146233563\n",
      "epoch: 174 loss: 5.827229052683962\n",
      "epoch: 175 loss: 5.8684090065992525\n",
      "epoch: 176 loss: 5.863376903243723\n",
      "epoch: 177 loss: 5.936625111596007\n",
      "epoch: 178 loss: 5.831141869970172\n",
      "epoch: 179 loss: 5.868493535935509\n",
      "epoch: 180 loss: 5.868309591508959\n",
      "epoch: 181 loss: 5.836513818342843\n",
      "epoch: 182 loss: 5.741968972584184\n",
      "epoch: 183 loss: 5.880083462794887\n",
      "epoch: 184 loss: 5.838843452478268\n",
      "epoch: 185 loss: 5.866833292005443\n",
      "epoch: 186 loss: 5.821390303856837\n",
      "epoch: 187 loss: 5.970890933686291\n",
      "epoch: 188 loss: 5.870484519862131\n",
      "epoch: 189 loss: 5.955411174700138\n",
      "epoch: 190 loss: 5.768830369733485\n",
      "epoch: 191 loss: 5.888605519190316\n",
      "epoch: 192 loss: 5.836748334013143\n",
      "epoch: 193 loss: 5.889166843987093\n",
      "epoch: 194 loss: 5.838480685465431\n",
      "epoch: 195 loss: 5.911110979904616\n",
      "epoch: 196 loss: 5.75806336423496\n",
      "epoch: 197 loss: 5.813570990399159\n",
      "epoch: 198 loss: 5.801240718792603\n",
      "epoch: 199 loss: 5.9314757604244965\n",
      "epoch: 200 loss: 5.924997964554173\n"
     ]
    }
   ],
   "source": [
    "# Training the SAE\n",
    "nb_epoch = 200\n",
    "for epoch in range(1, nb_epoch + 1):\n",
    "    train_loss = 0\n",
    "    s = 0.\n",
    "    for id_user in range(nb_students):\n",
    "        input = Variable(training_set[id_user]).unsqueeze(0)\n",
    "        target = input.clone()\n",
    "        if torch.sum(target.data > 0) > 0:\n",
    "            output = sae(input)\n",
    "            target.require_grad = False\n",
    "            output[target == 0] = 0\n",
    "            loss = criterion(output, target)\n",
    "            mean_corrector = nb_courses/float(torch.sum(target.data > 0) + 1e-10)\n",
    "            loss.backward()\n",
    "            \n",
    "            train_loss += np.sqrt(loss.item()*mean_corrector)\n",
    "\n",
    "            s += 1.\n",
    "            optimizer.step()\n",
    "    print('epoch: '+str(epoch)+' loss: '+str(train_loss/s))\n"
   ]
  },
  {
   "cell_type": "code",
   "execution_count": 84,
   "metadata": {},
   "outputs": [
    {
     "name": "stdout",
     "output_type": "stream",
     "text": [
      "test loss: 6.799864062208514\n"
     ]
    }
   ],
   "source": [
    "# Testing the SAE\n",
    "test_loss = 0\n",
    "s = 0.\n",
    "for id_user in range(nb_students):\n",
    "    input = Variable(training_set[id_user]).unsqueeze(0)\n",
    "    #target = Variable(test_set[id_user]).unsqueeze(0)\n",
    "for id_user in range(test_set.shape[0]):\n",
    "    target = Variable(test_set[id_user]).unsqueeze(0)\n",
    "\n",
    "\n",
    "    if torch.sum(target.data > 0) > 0:\n",
    "        output = sae(input)\n",
    "        target.require_grad = False\n",
    "        output[target == 0] = 0\n",
    "        loss = criterion(output, target)\n",
    "        mean_corrector = nb_courses/float(torch.sum(target.data > 0) + 1e-10)\n",
    "        test_loss += np.sqrt(loss.item()*mean_corrector)\n",
    "\n",
    "        s += 1.\n",
    "print('test loss: '+str(test_loss/s))"
   ]
  },
  {
   "cell_type": "code",
   "execution_count": null,
   "metadata": {},
   "outputs": [],
   "source": [
    "for i in range(1,1682):\n",
    "    print(target[0][i])"
   ]
  },
  {
   "cell_type": "code",
   "execution_count": null,
   "metadata": {},
   "outputs": [],
   "source": [
    "target.shape"
   ]
  },
  {
   "cell_type": "code",
   "execution_count": 92,
   "metadata": {},
   "outputs": [
    {
     "name": "stdout",
     "output_type": "stream",
     "text": [
      "   MA101\n",
      "0    0.0\n",
      "1    6.0\n",
      "2   10.0\n",
      "3    6.0\n",
      "4   10.0\n",
      "5    9.0\n",
      "6    5.0\n",
      "7    6.0\n",
      "8    0.0\n",
      "9    9.0\n"
     ]
    }
   ],
   "source": [
    "user_id = 0\n",
    "movie_title = movies.iloc[:nb_courses, 1:2]\n",
    "print(movie_title)\n",
    "user_rating = training_set.data.numpy()[user_id, :].reshape(-1,1)\n",
    "user_target = test_set.data.numpy()[user_id, :].reshape(-1,1)\n",
    " \n",
    "user_input = Variable(training_set[user_id]).unsqueeze(0)\n",
    "predicted = sae(user_input)\n",
    "predicted = predicted.data.numpy().reshape(-1,1)\n",
    " \n",
    "# Join all info in one dataset\n",
    "result_array = np.hstack([movie_title, user_target, predicted])\n",
    "result_array = result_array[result_array[:, 1] > 0]\n",
    "result_df = pd.DataFrame(data=result_array, columns=['Movie', 'Target Rating', 'Predicted'])"
   ]
  },
  {
   "cell_type": "code",
   "execution_count": 91,
   "metadata": {},
   "outputs": [
    {
     "data": {
      "text/html": [
       "<div>\n",
       "<style scoped>\n",
       "    .dataframe tbody tr th:only-of-type {\n",
       "        vertical-align: middle;\n",
       "    }\n",
       "\n",
       "    .dataframe tbody tr th {\n",
       "        vertical-align: top;\n",
       "    }\n",
       "\n",
       "    .dataframe thead th {\n",
       "        text-align: right;\n",
       "    }\n",
       "</style>\n",
       "<table border=\"1\" class=\"dataframe\">\n",
       "  <thead>\n",
       "    <tr style=\"text-align: right;\">\n",
       "      <th></th>\n",
       "      <th>Movie</th>\n",
       "      <th>Target Rating</th>\n",
       "      <th>Predicted</th>\n",
       "    </tr>\n",
       "  </thead>\n",
       "  <tbody>\n",
       "    <tr>\n",
       "      <td>0</td>\n",
       "      <td>0.0</td>\n",
       "      <td>62.0</td>\n",
       "      <td>29.525795</td>\n",
       "    </tr>\n",
       "    <tr>\n",
       "      <td>1</td>\n",
       "      <td>6.0</td>\n",
       "      <td>5.0</td>\n",
       "      <td>6.248788</td>\n",
       "    </tr>\n",
       "    <tr>\n",
       "      <td>2</td>\n",
       "      <td>10.0</td>\n",
       "      <td>7.0</td>\n",
       "      <td>7.200478</td>\n",
       "    </tr>\n",
       "    <tr>\n",
       "      <td>3</td>\n",
       "      <td>9.0</td>\n",
       "      <td>6.0</td>\n",
       "      <td>8.887316</td>\n",
       "    </tr>\n",
       "    <tr>\n",
       "      <td>4</td>\n",
       "      <td>5.0</td>\n",
       "      <td>5.0</td>\n",
       "      <td>8.523261</td>\n",
       "    </tr>\n",
       "    <tr>\n",
       "      <td>5</td>\n",
       "      <td>6.0</td>\n",
       "      <td>7.0</td>\n",
       "      <td>8.704281</td>\n",
       "    </tr>\n",
       "    <tr>\n",
       "      <td>6</td>\n",
       "      <td>0.0</td>\n",
       "      <td>9.0</td>\n",
       "      <td>8.247253</td>\n",
       "    </tr>\n",
       "    <tr>\n",
       "      <td>7</td>\n",
       "      <td>9.0</td>\n",
       "      <td>8.0</td>\n",
       "      <td>9.006348</td>\n",
       "    </tr>\n",
       "  </tbody>\n",
       "</table>\n",
       "</div>"
      ],
      "text/plain": [
       "   Movie  Target Rating  Predicted\n",
       "0    0.0           62.0  29.525795\n",
       "1    6.0            5.0   6.248788\n",
       "2   10.0            7.0   7.200478\n",
       "3    9.0            6.0   8.887316\n",
       "4    5.0            5.0   8.523261\n",
       "5    6.0            7.0   8.704281\n",
       "6    0.0            9.0   8.247253\n",
       "7    9.0            8.0   9.006348"
      ]
     },
     "execution_count": 91,
     "metadata": {},
     "output_type": "execute_result"
    }
   ],
   "source": [
    "result_df"
   ]
  },
  {
   "cell_type": "code",
   "execution_count": 93,
   "metadata": {},
   "outputs": [
    {
     "name": "stdout",
     "output_type": "stream",
     "text": [
      "   MA101\n",
      "0    0.0\n",
      "1    6.0\n",
      "2   10.0\n",
      "3    6.0\n",
      "4   10.0\n",
      "5    9.0\n",
      "6    5.0\n",
      "7    6.0\n",
      "8    0.0\n",
      "9    9.0\n"
     ]
    }
   ],
   "source": [
    "user_id = 0\n",
    "movie_title = movies.iloc[:nb_courses, 1:2]\n",
    "print(movie_title)\n",
    "user_rating = training_set.data.numpy()[user_id, :].reshape(-1,1)\n",
    "user_target = test_set.data.numpy()[user_id, :].reshape(-1,1)\n",
    " \n",
    "user_input = Variable(training_set[user_id]).unsqueeze(0)\n",
    "predicted = sae(user_input)\n",
    "predicted = predicted.data.numpy().reshape(-1,1)\n",
    " \n",
    "# Join all info in one dataset\n",
    "result_array = np.hstack([movie_title, user_target, predicted])\n",
    "result_array = result_array[result_array[:, 1] > 0]\n",
    "result_df = pd.DataFrame(data=result_array, columns=['Movie', 'Target Rating', 'Predicted'])"
   ]
  },
  {
   "cell_type": "code",
   "execution_count": null,
   "metadata": {},
   "outputs": [],
   "source": []
  }
 ],
 "metadata": {
  "kernelspec": {
   "display_name": "Python 3",
   "language": "python",
   "name": "python3"
  },
  "language_info": {
   "codemirror_mode": {
    "name": "ipython",
    "version": 3
   },
   "file_extension": ".py",
   "mimetype": "text/x-python",
   "name": "python",
   "nbconvert_exporter": "python",
   "pygments_lexer": "ipython3",
   "version": "3.7.4"
  }
 },
 "nbformat": 4,
 "nbformat_minor": 2
}
